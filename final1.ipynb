{
 "cells": [
  {
   "cell_type": "code",
   "execution_count": null,
   "metadata": {},
   "outputs": [],
   "source": [
    "poem=\"\"\"\n",
    "Twinkle Twinkle ,little star,\n",
    " How I wonder what you are!\n",
    "    \n",
    "    \n",
    "    \n",
    "    Up above the what so \n",
    "high,\n",
    "     Like a diamond in the \n",
    "sky.\n",
    "Twinkle,twinkle,little star,\n",
    "    How I wonder what you are\n",
    "     \"\"\"\n",
    "print (poem)\n",
    "Twinkle Twinkle ,little star,\n",
    " How I wonder what you are!\n",
    "    Up above the what so \n",
    "high,\n",
    "     Like a diamond in the \n",
    "sky.\n",
    "Twinkle,twinkle,little star,\n",
    "    How I wonder what you are\n",
    "     \"\"\"\n",
    "\n",
    "\n"
   ]
  },
  {
   "cell_type": "code",
   "execution_count": null,
   "metadata": {},
   "outputs": [],
   "source": [
    "poem=\"\"\"\n",
    "Twinkle Twinkle ,little star,\n",
    " How I wonder what you are!\n",
    "    Up above the what so \n",
    "high,\n",
    "     Like a diamond in the \n",
    "sky.\n",
    "Twinkle,twinkle,little star,\n",
    "    How I wonder what you are  \n",
    "print (poem)\n",
    "Twinkle Twinkle ,little star,\n",
    " How I wonder what you are!\n",
    "    Up above the what so \n",
    "high,\n",
    "     Like a diamond in the \n",
    "sky.\n",
    "Twinkle,twinkle,little star,\n",
    "    How I wonder what you are\n",
    "     \"\"\"\n"
   ]
  },
  {
   "cell_type": "code",
   "execution_count": 7,
   "metadata": {},
   "outputs": [
    {
     "name": "stdout",
     "output_type": "stream",
     "text": [
      "\n",
      "Twinkle Twinkle ,little star,\n",
      " How I wonder what you are!\n",
      "    Up above the what so \n",
      "high,\n",
      "     Like a diamond in the \n",
      "sky.\n",
      "Twinkle,twinkle,little star,\n",
      "    How I wonder what you are  \n",
      "print (poem)\n",
      "Twinkle Twinkle ,little star,\n",
      " How I wonder what you are!\n",
      "    Up above the what so \n",
      "high,\n",
      "     Like a diamond in the \n",
      "sky.\n",
      "Twinkle,twinkle,little star,\n",
      "    How I wonder what you are\n",
      "     \n"
     ]
    }
   ],
   "source": [
    "print(poem)"
   ]
  },
  {
   "cell_type": "code",
   "execution_count": 9,
   "metadata": {},
   "outputs": [
    {
     "data": {
      "text/plain": [
       "'3.7.4 (default, Aug  9 2019, 18:34:13) [MSC v.1915 64 bit (AMD64)]'"
      ]
     },
     "execution_count": 9,
     "metadata": {},
     "output_type": "execute_result"
    }
   ],
   "source": [
    "import sys\n",
    "sys.version"
   ]
  },
  {
   "cell_type": "code",
   "execution_count": 10,
   "metadata": {},
   "outputs": [
    {
     "name": "stdout",
     "output_type": "stream",
     "text": [
      "<built-in method strftime of datetime.datetime object at 0x0000000004F98780>\n"
     ]
    },
    {
     "ename": "TypeError",
     "evalue": "'NoneType' object is not callable",
     "output_type": "error",
     "traceback": [
      "\u001b[1;31m---------------------------------------------------------------------------\u001b[0m",
      "\u001b[1;31mTypeError\u001b[0m                                 Traceback (most recent call last)",
      "\u001b[1;32m<ipython-input-10-21d891965914>\u001b[0m in \u001b[0;36m<module>\u001b[1;34m\u001b[0m\n\u001b[0;32m      2\u001b[0m \u001b[1;32mimport\u001b[0m \u001b[0mdatetime\u001b[0m\u001b[1;33m\u001b[0m\u001b[1;33m\u001b[0m\u001b[0m\n\u001b[0;32m      3\u001b[0m \u001b[0mtime\u001b[0m\u001b[1;33m=\u001b[0m\u001b[0mdatetime\u001b[0m\u001b[1;33m.\u001b[0m\u001b[0mdatetime\u001b[0m\u001b[1;33m.\u001b[0m\u001b[0mnow\u001b[0m\u001b[1;33m(\u001b[0m\u001b[1;33m)\u001b[0m\u001b[1;33m\u001b[0m\u001b[1;33m\u001b[0m\u001b[0m\n\u001b[1;32m----> 4\u001b[1;33m \u001b[0mprint\u001b[0m\u001b[1;33m(\u001b[0m\u001b[0mtime\u001b[0m\u001b[1;33m.\u001b[0m\u001b[0mstrftime\u001b[0m\u001b[1;33m)\u001b[0m\u001b[1;33m(\u001b[0m\u001b[1;34m\"%d %B %Y %H:M:%S\"\u001b[0m\u001b[1;33m)\u001b[0m\u001b[1;33m\u001b[0m\u001b[1;33m\u001b[0m\u001b[0m\n\u001b[0m",
      "\u001b[1;31mTypeError\u001b[0m: 'NoneType' object is not callable"
     ]
    }
   ],
   "source": [
    "In[10]\n",
    "import datetime\n",
    "time=datetime.datetime.now()\n",
    "print(time.strftime)(\"%d %B %Y %H:M:%S\")"
   ]
  },
  {
   "cell_type": "code",
   "execution_count": 5,
   "metadata": {},
   "outputs": [
    {
     "ename": "SyntaxError",
     "evalue": "invalid syntax (<ipython-input-5-ea1f7ebfde9b>, line 1)",
     "output_type": "error",
     "traceback": [
      "\u001b[1;36m  File \u001b[1;32m\"<ipython-input-5-ea1f7ebfde9b>\"\u001b[1;36m, line \u001b[1;32m1\u001b[0m\n\u001b[1;33m    In [9]:\u001b[0m\n\u001b[1;37m           ^\u001b[0m\n\u001b[1;31mSyntaxError\u001b[0m\u001b[1;31m:\u001b[0m invalid syntax\n"
     ]
    }
   ],
   "source": [
    "In [9]:\n",
    "import datetime\n",
    "time=datetime.datetime.now()\n",
    "print(time.strftime(\"%d/%B/%Y %H:%M:%S\"))"
   ]
  },
  {
   "cell_type": "code",
   "execution_count": 2,
   "metadata": {},
   "outputs": [
    {
     "name": "stdout",
     "output_type": "stream",
     "text": [
      "Enter The Radius of the Circle:22\n",
      "Area of Circle with radius 22.0 is 1520.728\n"
     ]
    }
   ],
   "source": [
    "radius=float(input(\"Enter The Radius of the Circle:\"))\n",
    "Area=3.142*radius**2\n",
    "print(\"Area of Circle with radius\",radius,\"is\",Area)"
   ]
  },
  {
   "cell_type": "code",
   "execution_count": 1,
   "metadata": {},
   "outputs": [
    {
     "name": "stdout",
     "output_type": "stream",
     "text": [
      "Enter your first name: jiya\n",
      "Enter your last name: syed\n",
      "deysayij\n"
     ]
    }
   ],
   "source": [
    "fname=input(\"Enter your first name: \")\n",
    "lname=input(\"Enter your last name: \")\n",
    "name=fname + \"\" +lname\n",
    "print(name[::-1])"
   ]
  },
  {
   "cell_type": "code",
   "execution_count": 1,
   "metadata": {},
   "outputs": [
    {
     "name": "stdout",
     "output_type": "stream",
     "text": [
      "Enter first number: 2\n",
      "Enter second number: 3\n",
      "Sum is 5\n"
     ]
    }
   ],
   "source": [
    "a=int(input(\"Enter first number: \"))\n",
    "b=int(input(\"Enter second number: \"))\n",
    "print(\"Sum is\",a+b)      "
   ]
  },
  {
   "cell_type": "code",
   "execution_count": null,
   "metadata": {},
   "outputs": [],
   "source": []
  },
  {
   "cell_type": "code",
   "execution_count": null,
   "metadata": {},
   "outputs": [],
   "source": []
  },
  {
   "cell_type": "code",
   "execution_count": null,
   "metadata": {},
   "outputs": [],
   "source": []
  },
  {
   "cell_type": "code",
   "execution_count": null,
   "metadata": {},
   "outputs": [],
   "source": []
  }
 ],
 "metadata": {
  "kernelspec": {
   "display_name": "Python 3",
   "language": "python",
   "name": "python3"
  },
  "language_info": {
   "codemirror_mode": {
    "name": "ipython",
    "version": 3
   },
   "file_extension": ".py",
   "mimetype": "text/x-python",
   "name": "python",
   "nbconvert_exporter": "python",
   "pygments_lexer": "ipython3",
   "version": "3.7.4"
  }
 },
 "nbformat": 4,
 "nbformat_minor": 2
}
